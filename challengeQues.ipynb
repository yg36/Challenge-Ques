{
  "nbformat": 4,
  "nbformat_minor": 0,
  "metadata": {
    "colab": {
      "provenance": [],
      "authorship_tag": "ABX9TyPaCGrW141SQwD6qq9MO+aW",
      "include_colab_link": true
    },
    "kernelspec": {
      "name": "python3",
      "display_name": "Python 3"
    },
    "language_info": {
      "name": "python"
    }
  },
  "cells": [
    {
      "cell_type": "markdown",
      "metadata": {
        "id": "view-in-github",
        "colab_type": "text"
      },
      "source": [
        "<a href=\"https://colab.research.google.com/github/yg36/Challenge-Ques/blob/main/challengeQues.ipynb\" target=\"_parent\"><img src=\"https://colab.research.google.com/assets/colab-badge.svg\" alt=\"Open In Colab\"/></a>"
      ]
    },
    {
      "cell_type": "code",
      "execution_count": 8,
      "metadata": {
        "colab": {
          "base_uri": "https://localhost:8080/"
        },
        "id": "WtxCtPPatbE1",
        "outputId": "87ff0ade-4fdd-453d-f80f-be3a6f81b7ff"
      },
      "outputs": [
        {
          "output_type": "stream",
          "name": "stdout",
          "text": [
            "['1', '2', '3', 'Aman', 'Ram', 'Shyam']\n",
            "[1, 2, 3, 'Aman', 'Ram', 'Shyam']\n"
          ]
        }
      ],
      "source": [
        "L=[\"Ram\", 1, \"Shyam\", 2, \"Aman\", 3]\n",
        "L=[ str(i) for i in L]\n",
        "L.sort()\n",
        "print(L)\n",
        "L1=[]\n",
        "for i in L:\n",
        "    try:\n",
        "        L1.append(int(i))\n",
        "    except:\n",
        "        L1.append(i)\n",
        "print(L1)"
      ]
    }
  ]
}